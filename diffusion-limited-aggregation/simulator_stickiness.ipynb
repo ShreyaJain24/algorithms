{
 "cells": [
  {
   "cell_type": "code",
   "execution_count": null,
   "metadata": {},
   "outputs": [],
   "source": [
    "# !pip install simpy "
   ]
  },
  {
   "cell_type": "code",
   "execution_count": 1,
   "metadata": {},
   "outputs": [],
   "source": [
    "import simpy\n",
    "import numpy as np\n",
    "from PIL import Image\n",
    "import matplotlib.pyplot as plt"
   ]
  },
  {
   "cell_type": "code",
   "execution_count": 11,
   "metadata": {},
   "outputs": [],
   "source": [
    "class Simulator(object):\n",
    "    def __init__(self, env1):\n",
    "        self.env = env1\n",
    "        self.matrix  = np.empty(shape=(501, 501))\n",
    "        # pixel value 255 = white\n",
    "        self.matrix.fill(255)\n",
    "        self.matrix[250][250] = 0\n",
    "        self.count = 0\n",
    "        self.stickiness = 0.02\n",
    "        \n",
    "    def aggregation(self, r, c ):\n",
    "        flag = True\n",
    "        i = r\n",
    "        j = c\n",
    "        while(flag):\n",
    "            side = ['left', 'right', 'top', 'bottom']\n",
    "            sideSelected = np.random.choice(side, 1, p=[0.25, 0.25, 0.25, 0.25])[0]\n",
    "            if sideSelected == \"left\":\n",
    "                column = j-1\n",
    "                row = i\n",
    "            elif sideSelected == \"right\":\n",
    "                column = j+1\n",
    "                row = i\n",
    "            elif sideSelected == \"top\":\n",
    "                column = j\n",
    "                row = i-1\n",
    "            else:\n",
    "                column = j\n",
    "                row = i+1\n",
    "            if row == -1:\n",
    "                row = 500\n",
    "            elif row == 501: \n",
    "                row = 0\n",
    "            if column == -1:\n",
    "                column = 500\n",
    "            elif column == 501:\n",
    "                column = 0\n",
    "            if 0 <= column <= 500 and 0 <= row <= 500 and self.matrix[row][column] == 0:\n",
    "                prob = np.random.uniform(0.0, 1.0)\n",
    "                # print(\"prob \", prob)\n",
    "                if prob <= self.stickiness:\n",
    "                    flag = False\n",
    "            elif 0 <= column <= 500 and 0 <= row <= 500 and self.matrix[row][column] != 0: \n",
    "                self.matrix[i][j] = 255\n",
    "                self.matrix[row][column] = 0\n",
    "                i = row\n",
    "                j = column\n",
    "                self.count += 1\n",
    "            \n",
    "            \n",
    "    def pixelSelection(self):\n",
    "        side = ['left', 'right', 'top', 'bottom']\n",
    "        sideSelected = np.random.choice(side, 1, p=[0.25, 0.25, 0.25, 0.25])[0]\n",
    "        row = -1 \n",
    "        column = -1\n",
    "        remainingIndex = np.random.randint(0,500) \n",
    "        if sideSelected == \"left\":\n",
    "            column = 0\n",
    "            row = remainingIndex\n",
    "        elif sideSelected == \"right\":\n",
    "            column = 500\n",
    "            row = remainingIndex\n",
    "        elif sideSelected == \"top\":\n",
    "            column = remainingIndex\n",
    "            row = 0\n",
    "        else:\n",
    "            column = remainingIndex\n",
    "            row = 500\n",
    "        return row, column\n",
    "    \n",
    "    def diffusion(self, tick):\n",
    "        while True:\n",
    "            row, column = self.pixelSelection()\n",
    "            self.matrix[row][column] = 0\n",
    "            self.aggregation(row, column)\n",
    "            print(row, column, self.env.now)\n",
    "#             print(\"count \", self.count )\n",
    "            yield self.env.timeout(tick)\n",
    "    \n",
    "    def printMatrix(self):\n",
    "        print (\"Matrix: \", self.matrix)\n",
    "        global globalMatrix \n",
    "        globalMatrix = self.matrix\n",
    "        fig = plt.figure(figsize=(6, 12))\n",
    "\n",
    "        ax = fig.add_subplot(111)\n",
    "        ax.set_title('colorMap')\n",
    "        plt.imshow(self.matrix)\n",
    "        ax.set_aspect('equal')\n",
    "\n",
    "        cax = fig.add_axes([0.12, 0.1, 0.78, 0.8])\n",
    "        cax.get_xaxis().set_visible(False)\n",
    "        cax.get_yaxis().set_visible(False)\n",
    "        cax.patch.set_alpha(0)\n",
    "        cax.set_frame_on(False)\n",
    "        plt.colorbar(orientation='vertical')\n",
    "        plt.show()\n",
    "#         img = Image.fromarray(self.matrix, 'L')\n",
    "#         img.show()\n",
    "\n",
    "envObject2 = simpy.Environment()"
   ]
  },
  {
   "cell_type": "code",
   "execution_count": 12,
   "metadata": {},
   "outputs": [
    {
     "data": {
      "text/plain": [
       "<Process(diffusion) object at 0x7fb0f056f250>"
      ]
     },
     "execution_count": 12,
     "metadata": {},
     "output_type": "execute_result"
    }
   ],
   "source": [
    "globalMatrix = None\n",
    "obj2 = Simulator(envObject2)\n",
    "obj2.env.process(obj2.diffusion(1))"
   ]
  },
  {
   "cell_type": "code",
   "execution_count": null,
   "metadata": {
    "scrolled": true
   },
   "outputs": [
    {
     "name": "stdout",
     "output_type": "stream",
     "text": [
      "0 104 0\n",
      "191 500 1\n",
      "29 0 2\n",
      "0 337 3\n",
      "488 0 4\n",
      "0 361 5\n",
      "71 500 6\n",
      "500 222 7\n",
      "0 89 8\n",
      "500 193 9\n",
      "0 396 10\n",
      "0 354 11\n",
      "0 244 12\n",
      "36 0 13\n",
      "70 0 14\n",
      "0 334 15\n",
      "500 65 16\n",
      "0 277 17\n",
      "0 460 18\n",
      "100 500 19\n",
      "500 475 20\n",
      "500 125 21\n",
      "499 0 22\n",
      "0 393 23\n",
      "377 0 24\n",
      "351 0 25\n",
      "0 7 26\n",
      "500 124 27\n",
      "449 500 28\n",
      "310 500 29\n",
      "0 289 30\n",
      "0 295 31\n",
      "0 109 32\n",
      "309 0 33\n",
      "374 500 34\n",
      "500 394 35\n",
      "0 267 36\n",
      "205 0 37\n",
      "31 500 38\n",
      "115 500 39\n",
      "0 194 40\n",
      "421 0 41\n",
      "349 500 42\n",
      "439 0 43\n",
      "464 0 44\n",
      "335 0 45\n",
      "0 367 46\n",
      "257 0 47\n",
      "12 500 48\n",
      "0 418 49\n",
      "500 30 50\n",
      "181 0 51\n",
      "500 380 52\n",
      "500 36 53\n",
      "0 397 54\n",
      "0 385 55\n",
      "405 0 56\n",
      "485 0 57\n",
      "420 0 58\n",
      "378 0 59\n",
      "328 0 60\n",
      "500 348 61\n",
      "425 500 62\n",
      "0 128 63\n",
      "427 0 64\n",
      "500 168 65\n",
      "0 427 66\n",
      "19 500 67\n",
      "363 500 68\n",
      "500 244 69\n",
      "20 0 70\n",
      "0 473 71\n",
      "204 500 72\n",
      "337 0 73\n",
      "500 454 74\n",
      "398 0 75\n",
      "0 274 76\n",
      "270 500 77\n",
      "500 219 78\n",
      "0 470 79\n",
      "0 20 80\n"
     ]
    }
   ],
   "source": [
    "N = 500\n",
    "obj2.env.run(until=N)\n"
   ]
  },
  {
   "cell_type": "code",
   "execution_count": 5,
   "metadata": {},
   "outputs": [
    {
     "name": "stdout",
     "output_type": "stream",
     "text": [
      "Matrix:  [[255. 255. 255. ... 255. 255. 255.]\n",
      " [255. 255. 255. ... 255. 255. 255.]\n",
      " [255. 255. 255. ... 255. 255. 255.]\n",
      " ...\n",
      " [255. 255. 255. ... 255. 255. 255.]\n",
      " [255. 255. 255. ... 255. 255. 255.]\n",
      " [255. 255. 255. ... 255. 255. 255.]]\n"
     ]
    },
    {
     "data": {
      "image/png": "[encoded data removed]",
      "text/plain": [
       "<Figure size 432x864 with 3 Axes>"
      ]
     },
     "metadata": {
      "needs_background": "light"
     },
     "output_type": "display_data"
    }
   ],
   "source": [
    "obj2.printMatrix()"
   ]
  },
  {
   "cell_type": "code",
   "execution_count": 6,
   "metadata": {},
   "outputs": [
    {
     "name": "stdout",
     "output_type": "stream",
     "text": [
      "globalMatrix  [[255. 255. 255. ... 255. 255. 255.]\n",
      " [255. 255. 255. ... 255. 255. 255.]\n",
      " [255. 255. 255. ... 255. 255. 255.]\n",
      " ...\n",
      " [255. 255. 255. ... 255. 255. 255.]\n",
      " [255. 255. 255. ... 255. 255. 255.]\n",
      " [255. 255. 255. ... 255. 255. 255.]]\n"
     ]
    }
   ],
   "source": [
    "print(\"globalMatrix \", globalMatrix)"
   ]
  },
  {
   "cell_type": "code",
   "execution_count": 7,
   "metadata": {},
   "outputs": [
    {
     "name": "stdout",
     "output_type": "stream",
     "text": [
      "[[255. 255. 255. ... 255. 255. 255.]\n",
      " [255. 255. 255. ... 255. 255. 255.]\n",
      " [255. 255. 255. ... 255. 255. 255.]\n",
      " ...\n",
      " [255. 255. 255. ... 255. 255. 255.]\n",
      " [255. 255. 255. ... 255. 255. 255.]\n",
      " [255. 255. 255. ... 255. 255. 255.]]\n"
     ]
    }
   ],
   "source": [
    "from numpy import asarray\n",
    "from numpy import save\n",
    "\n",
    "# save to npy file, add a README for N and stickiness\n",
    "save('/Users/shreyajain/MLAdhocProjects/locus/data/3/matrix.npy', globalMatrix)\n",
    "\n",
    "# load numpy array from npy file\n",
    "from numpy import load\n",
    "\n",
    "globalMatrix2 = load('/Users/shreyajain/MLAdhocProjects/locus/data/3/matrix.npy')\n",
    "\n",
    "print(globalMatrix2)\n"
   ]
  },
  {
   "cell_type": "code",
   "execution_count": 8,
   "metadata": {},
   "outputs": [],
   "source": [
    "class Stickiness(object):\n",
    "    def __init__(self):\n",
    "        self.matrix = globalMatrix2\n",
    "        self.stride = 0\n",
    "        self.height = self.matrix.shape[0]\n",
    "        self.width = self.matrix.shape[1]\n",
    "        self.filter_size = 3\n",
    "        self.size = 501\n",
    "\n",
    "\n",
    "    def traversal(self):\n",
    "        r1 = 0\n",
    "        r2 = r1 + self.filter_size \n",
    "        c1 = 0\n",
    "        c2 = c1 + self.filter_size \n",
    "        density = 0 \n",
    "        print (\"self.matrix \", self.matrix.shape)\n",
    "        while(c2 <= self.height and r2 <= self.width):\n",
    "            tempArray = self.matrix[r1:r2 ,  c1:c2]\n",
    "            count = 0 \n",
    "            for x in range(0, self.filter_size):\n",
    "                for y in range(0, self.filter_size):\n",
    "                    if tempArray[x,y] == 0:\n",
    "                        count += 1\n",
    "                        # print (\"count \", count)\n",
    "            density += count/float(self.filter_size*self.filter_size)\n",
    "            r1 += 1\n",
    "            r2 += 1\n",
    "            c1 += 1\n",
    "            c2 += 1\n",
    "        \n",
    "        total_filters = (self.size - self.filter_size -1)*(self.size - self.filter_size -1)\n",
    "        average_density = density/total_filters\n",
    "        print (\"average_density \", average_density)\n",
    "        \n",
    "        \n",
    "\n",
    "objStickiness2 = Stickiness()"
   ]
  },
  {
   "cell_type": "code",
   "execution_count": 9,
   "metadata": {},
   "outputs": [
    {
     "name": "stdout",
     "output_type": "stream",
     "text": [
      "self.matrix  (501, 501)\n",
      "average_density  4.318331180915135e-05\n"
     ]
    }
   ],
   "source": [
    "objStickiness2.traversal()"
   ]
  },
  {
   "cell_type": "code",
   "execution_count": null,
   "metadata": {},
   "outputs": [],
   "source": [
    "self.matrix  (501, 501)\n",
    "average_density  4.993070427933126e-05"
   ]
  }
 ],
 "metadata": {
  "kernelspec": {
   "display_name": "Python 3",
   "language": "python",
   "name": "python3"
  },
  "language_info": {
   "codemirror_mode": {
    "name": "ipython",
    "version": 3
   },
   "file_extension": ".py",
   "mimetype": "text/x-python",
   "name": "python",
   "nbconvert_exporter": "python",
   "pygments_lexer": "ipython3",
   "version": "3.8.2"
  }
 },
 "nbformat": 4,
 "nbformat_minor": 4
}
